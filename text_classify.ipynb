{
 "cells": [
  {
   "cell_type": "code",
   "execution_count": 1,
   "metadata": {},
   "outputs": [],
   "source": [
    "from pyvi import ViTokenizer, ViPosTagger # thư viện NLP tiếng Việt\n",
    "from tqdm import tqdm\n",
    "import numpy as np\n",
    "import gensim # thư viện NLP\n",
    "import pickle\n",
    "from sklearn import naive_bayes, metrics, preprocessing\n",
    "from sklearn.model_selection import train_test_split\n",
    "from sklearn.feature_extraction.text import TfidfVectorizer, CountVectorizer"
   ]
  },
  {
   "attachments": {},
   "cell_type": "markdown",
   "metadata": {},
   "source": [
    "<h2>lấy dữ liệu đã được xử lý</h2>\n",
    "<p>dữ liệu phục vụ cho mô hình là một csr matrix, hay nói cách khác là một tập hợp gồm n phần tử, mỗi phần tử là một vector p chiều</p>\n",
    "<p>mỗi chiều của vector là một từ trong tiếng việt, bao gồm cả từ đơn và từ ghép</p>\n",
    "<p>file .pkl dùng để lưu lại các object(list, tuple ...) trong python</p>\n",
    "<p><strong>count_vect_data lưu lại một ma trận có 40000 cột và số hàng tương ứng với số văn bản, mỗi phần tử là số lần xuất hiện của từ trong văn bản</strong><p>\n",
    "<p><strong>tfidf như cont_vect, nhưng giá trị phần tử là tần suất thay vì số lần xuất hiện</strong></p>\n",
    "<p><strong>tfidf_svd là tfidf nhưng đã giảm số chiều(số cột)</strong></p>"
   ]
  },
  {
   "cell_type": "code",
   "execution_count": 2,
   "metadata": {},
   "outputs": [],
   "source": [
    "X_data_count = pickle.load(open(\"count_vect_data.pkl\", \"rb\"))\n",
    "X_test_count = pickle.load(open(\"count_vect_test.pkl\", \"rb\"))\n",
    "X_data_tfidf_svd = pickle.load(open(\"X_data_tfidf_svd.pkl\", \"rb\"))\n",
    "X_test_tfidf_svd = pickle.load(open(\"X_test_tfidf_svd.pkl\", \"rb\"))\n",
    "y_data = pickle.load(open(\"raw_data/y_data.pkl\", \"rb\"))\n",
    "y_test = pickle.load(open(\"raw_data/y_test.pkl\", \"rb\"))\n",
    "X_data = pickle.load(open(\"raw_data/X_data.pkl\", \"rb\"))\n",
    "X_test = pickle.load(open(\"raw_data/X_test.pkl\", \"rb\"))\n",
    "X_data_tfidf = pickle.load(open(\"X_data_tfidf.pkl\", \"rb\"))"
   ]
  },
  {
   "attachments": {},
   "cell_type": "markdown",
   "metadata": {},
   "source": [
    "<h2>đánh nhãn cho các lớp, do model hoạt động dựa trên dữ liệu số</h2>\n"
   ]
  },
  {
   "cell_type": "code",
   "execution_count": 3,
   "metadata": {},
   "outputs": [
    {
     "data": {
      "text/plain": [
       "array(['Chinh tri Xa hoi', 'Doi song', 'Khoa hoc', 'Kinh doanh',\n",
       "       'Phap luat', 'Suc khoe', 'The gioi', 'The thao', 'Van hoa',\n",
       "       'Vi tinh'], dtype='<U16')"
      ]
     },
     "execution_count": 3,
     "metadata": {},
     "output_type": "execute_result"
    }
   ],
   "source": [
    "encoder = preprocessing.LabelEncoder()\n",
    "y_data_n = encoder.fit_transform(y_data)\n",
    "y_test_n = encoder.fit_transform(y_test)\n",
    "\n",
    "encoder.classes_ # kết quả: array(['Chinh tri Xa hoi', 'Doi song', 'Khoa hoc', 'Kinh doanh',\n",
    "                 #                 'Phap luat', 'Suc khoe', 'The gioi', 'The thao', 'Van hoa',\n",
    "                 #                 'Vi tinh'], dtype='<U16')\n",
    "\n",
    "#cell nay bo cx dc, cac thuat toan van chay binh thuong"
   ]
  },
  {
   "attachments": {},
   "cell_type": "markdown",
   "metadata": {},
   "source": [
    "<h2>build hàm huấn luyện chung để cho các model để thuận tiện thay đổi model</h2>"
   ]
  },
  {
   "cell_type": "code",
   "execution_count": 4,
   "metadata": {},
   "outputs": [],
   "source": [
    "def train_model(classifier, X_data, y_data, X_test, y_test, is_neuralnet=False, n_epochs=3):       \n",
    "    X_train, X_val, y_train, y_val = train_test_split(X_data, y_data, test_size=0.1, random_state=42)\n",
    "    \n",
    "    if is_neuralnet:\n",
    "        classifier.fit(X_train, y_train, validation_data=(X_val, y_val), epochs=n_epochs, batch_size=512)\n",
    "        \n",
    "        val_predictions = classifier.predict(X_val)\n",
    "        test_predictions = classifier.predict(X_test)\n",
    "        val_predictions = val_predictions.argmax(axis=-1)\n",
    "        test_predictions = test_predictions.argmax(axis=-1)\n",
    "    else:\n",
    "        classifier.fit(X_train, y_train)\n",
    "\n",
    "        train_predictions = classifier.predict(X_train)\n",
    "        val_predictions = classifier.predict(X_val)\n",
    "        test_predictions = classifier.predict(X_test)\n",
    "\n",
    " \n",
    "    print(\"Validation accuracy: \", metrics.accuracy_score(val_predictions, y_val))\n",
    "    print(\"Test accuracy: \", metrics.accuracy_score(test_predictions, y_test))"
   ]
  },
  {
   "attachments": {},
   "cell_type": "markdown",
   "metadata": {},
   "source": [
    "<h1>Tiến hành build các model</h1>"
   ]
  },
  {
   "attachments": {},
   "cell_type": "markdown",
   "metadata": {},
   "source": [
    "<h2>1, Naive-bayes</h2>"
   ]
  },
  {
   "cell_type": "code",
   "execution_count": 5,
   "metadata": {},
   "outputs": [
    {
     "name": "stdout",
     "output_type": "stream",
     "text": [
      "Validation accuracy:  0.9164490861618799\n",
      "Test accuracy:  0.7852889667250438\n"
     ]
    }
   ],
   "source": [
    "naivBayesType = naive_bayes.MultinomialNB()\n",
    "train_model(naivBayesType, X_data_count, y_data, X_test_count, y_test, is_neuralnet=False)"
   ]
  },
  {
   "attachments": {},
   "cell_type": "markdown",
   "metadata": {},
   "source": [
    "<h2>2, SVM</h2>\n",
    "<p>svm và knn test dữ liệu có số chiều nhỏ<p>"
   ]
  },
  {
   "cell_type": "code",
   "execution_count": 6,
   "metadata": {},
   "outputs": [
    {
     "name": "stdout",
     "output_type": "stream",
     "text": [
      "Validation accuracy:  0.9295039164490861\n",
      "Test accuracy:  0.7957968476357268\n"
     ]
    }
   ],
   "source": [
    "from sklearn import svm\n",
    "svmModel = svm.SVC()\n",
    "train_model(svmModel, X_data_tfidf_svd, y_data, X_test_tfidf_svd, y_test, is_neuralnet=False)"
   ]
  },
  {
   "attachments": {},
   "cell_type": "markdown",
   "metadata": {},
   "source": [
    "<h2>3, KNN</h2>\n"
   ]
  },
  {
   "cell_type": "code",
   "execution_count": 7,
   "metadata": {},
   "outputs": [
    {
     "name": "stdout",
     "output_type": "stream",
     "text": [
      "Validation accuracy:  0.8459530026109661\n",
      "Test accuracy:  0.6612959719789843\n"
     ]
    }
   ],
   "source": [
    "from sklearn import neighbors\n",
    "NB_model = neighbors.KNeighborsClassifier()\n",
    "train_model(NB_model, X_data_tfidf_svd, y_data, X_test_tfidf_svd, y_test, is_neuralnet=False)"
   ]
  },
  {
   "attachments": {},
   "cell_type": "markdown",
   "metadata": {},
   "source": [
    "<h2> sử dụng model </h2>"
   ]
  },
  {
   "attachments": {},
   "cell_type": "markdown",
   "metadata": {},
   "source": [
    "<p>tạo mẫu</p>"
   ]
  },
  {
   "attachments": {},
   "cell_type": "markdown",
   "metadata": {},
   "source": [
    "các tư thế xử lý dữ liệu"
   ]
  },
  {
   "cell_type": "code",
   "execution_count": 8,
   "metadata": {},
   "outputs": [
    {
     "data": {
      "text/html": [
       "<style>#sk-container-id-1 {color: black;background-color: white;}#sk-container-id-1 pre{padding: 0;}#sk-container-id-1 div.sk-toggleable {background-color: white;}#sk-container-id-1 label.sk-toggleable__label {cursor: pointer;display: block;width: 100%;margin-bottom: 0;padding: 0.3em;box-sizing: border-box;text-align: center;}#sk-container-id-1 label.sk-toggleable__label-arrow:before {content: \"▸\";float: left;margin-right: 0.25em;color: #696969;}#sk-container-id-1 label.sk-toggleable__label-arrow:hover:before {color: black;}#sk-container-id-1 div.sk-estimator:hover label.sk-toggleable__label-arrow:before {color: black;}#sk-container-id-1 div.sk-toggleable__content {max-height: 0;max-width: 0;overflow: hidden;text-align: left;background-color: #f0f8ff;}#sk-container-id-1 div.sk-toggleable__content pre {margin: 0.2em;color: black;border-radius: 0.25em;background-color: #f0f8ff;}#sk-container-id-1 input.sk-toggleable__control:checked~div.sk-toggleable__content {max-height: 200px;max-width: 100%;overflow: auto;}#sk-container-id-1 input.sk-toggleable__control:checked~label.sk-toggleable__label-arrow:before {content: \"▾\";}#sk-container-id-1 div.sk-estimator input.sk-toggleable__control:checked~label.sk-toggleable__label {background-color: #d4ebff;}#sk-container-id-1 div.sk-label input.sk-toggleable__control:checked~label.sk-toggleable__label {background-color: #d4ebff;}#sk-container-id-1 input.sk-hidden--visually {border: 0;clip: rect(1px 1px 1px 1px);clip: rect(1px, 1px, 1px, 1px);height: 1px;margin: -1px;overflow: hidden;padding: 0;position: absolute;width: 1px;}#sk-container-id-1 div.sk-estimator {font-family: monospace;background-color: #f0f8ff;border: 1px dotted black;border-radius: 0.25em;box-sizing: border-box;margin-bottom: 0.5em;}#sk-container-id-1 div.sk-estimator:hover {background-color: #d4ebff;}#sk-container-id-1 div.sk-parallel-item::after {content: \"\";width: 100%;border-bottom: 1px solid gray;flex-grow: 1;}#sk-container-id-1 div.sk-label:hover label.sk-toggleable__label {background-color: #d4ebff;}#sk-container-id-1 div.sk-serial::before {content: \"\";position: absolute;border-left: 1px solid gray;box-sizing: border-box;top: 0;bottom: 0;left: 50%;z-index: 0;}#sk-container-id-1 div.sk-serial {display: flex;flex-direction: column;align-items: center;background-color: white;padding-right: 0.2em;padding-left: 0.2em;position: relative;}#sk-container-id-1 div.sk-item {position: relative;z-index: 1;}#sk-container-id-1 div.sk-parallel {display: flex;align-items: stretch;justify-content: center;background-color: white;position: relative;}#sk-container-id-1 div.sk-item::before, #sk-container-id-1 div.sk-parallel-item::before {content: \"\";position: absolute;border-left: 1px solid gray;box-sizing: border-box;top: 0;bottom: 0;left: 50%;z-index: -1;}#sk-container-id-1 div.sk-parallel-item {display: flex;flex-direction: column;z-index: 1;position: relative;background-color: white;}#sk-container-id-1 div.sk-parallel-item:first-child::after {align-self: flex-end;width: 50%;}#sk-container-id-1 div.sk-parallel-item:last-child::after {align-self: flex-start;width: 50%;}#sk-container-id-1 div.sk-parallel-item:only-child::after {width: 0;}#sk-container-id-1 div.sk-dashed-wrapped {border: 1px dashed gray;margin: 0 0.4em 0.5em 0.4em;box-sizing: border-box;padding-bottom: 0.4em;background-color: white;}#sk-container-id-1 div.sk-label label {font-family: monospace;font-weight: bold;display: inline-block;line-height: 1.2em;}#sk-container-id-1 div.sk-label-container {text-align: center;}#sk-container-id-1 div.sk-container {/* jupyter's `normalize.less` sets `[hidden] { display: none; }` but bootstrap.min.css set `[hidden] { display: none !important; }` so we also need the `!important` here to be able to override the default hidden behavior on the sphinx rendered scikit-learn.org. See: https://github.com/scikit-learn/scikit-learn/issues/21755 */display: inline-block !important;position: relative;}#sk-container-id-1 div.sk-text-repr-fallback {display: none;}</style><div id=\"sk-container-id-1\" class=\"sk-top-container\"><div class=\"sk-text-repr-fallback\"><pre>CountVectorizer(token_pattern=&#x27;\\\\w{1,}&#x27;)</pre><b>In a Jupyter environment, please rerun this cell to show the HTML representation or trust the notebook. <br />On GitHub, the HTML representation is unable to render, please try loading this page with nbviewer.org.</b></div><div class=\"sk-container\" hidden><div class=\"sk-item\"><div class=\"sk-estimator sk-toggleable\"><input class=\"sk-toggleable__control sk-hidden--visually\" id=\"sk-estimator-id-1\" type=\"checkbox\" checked><label for=\"sk-estimator-id-1\" class=\"sk-toggleable__label sk-toggleable__label-arrow\">CountVectorizer</label><div class=\"sk-toggleable__content\"><pre>CountVectorizer(token_pattern=&#x27;\\\\w{1,}&#x27;)</pre></div></div></div></div></div>"
      ],
      "text/plain": [
       "CountVectorizer(token_pattern='\\\\w{1,}')"
      ]
     },
     "execution_count": 8,
     "metadata": {},
     "output_type": "execute_result"
    }
   ],
   "source": [
    "from sklearn.decomposition import TruncatedSVD\n",
    "#chuyển data về kiểu tfidf\n",
    "tfidf_vect = TfidfVectorizer(analyzer='word', max_features=30000)\n",
    "tfidf_vect.fit(X_data) # learn vocabulary and idf from training set\n",
    "#chuyển data về kiểu giảm số chiều\n",
    "svd = TruncatedSVD(n_components=300, random_state=42)\n",
    "svd.fit(X_data_tfidf)\n",
    "#chuyển data về kiểu đếm số lần xuất hiện \n",
    "count_vect = CountVectorizer(analyzer='word', token_pattern=r'\\w{1,}')\n",
    "count_vect.fit(X_data)\n",
    "\n"
   ]
  },
  {
   "attachments": {},
   "cell_type": "markdown",
   "metadata": {},
   "source": [
    "<p>preprocessing theo kiểu tiếng việt</p>"
   ]
  },
  {
   "cell_type": "code",
   "execution_count": 9,
   "metadata": {},
   "outputs": [
    {
     "name": "stdout",
     "output_type": "stream",
     "text": [
      "mancity đang có phong_độ tốt trước trận tứ_kết lượt đi champions league trên sân_nhà gặp bayern đoàn quân của pep guardiola hiểu rằng họ cần có một kết_quả tốt trước khi làm_khách trên sân đối_thủ lượt về vì_vậy mancity chủ_động dâng cao đội_hình tấn_công gây sức_ép lên đối_phương ngay sau tiếng còi khai_cuộc phút de bruyne chuyền bóng cho haaland từ bên trái cầu_thủ người na uy bứt tốc nhanh và dứt_điểm uy_lực từ bên trái vòng cấm_địa bóng đi vọt xà phút sau haaland khiến cổ_động_viên bayern thót_tim khi lao vào rất nhanh tranh bóng với thủ_thành sommer ngay trên vạch vôi thủ_môn đội khách xử_lý chậm anh phá bóng đập chân haaland nhưng may_mắn trái bóng đã văng ra biên haaland thi_đấu nổi_bật trên hàng công của man city các đồng_đội cũng tập_trung nhiều bóng cho anh phút haaland thoải_mái dứt_điểm đầu vòng cấm_địa tiếc rằng cú sút của anh hơi nhẹ bóng đi chìm và hướng thẳng vào vị_trí của sommer nên không gây nguy_hiểm\n"
     ]
    }
   ],
   "source": [
    "test = [\"ManCity đang có phong độ tốt trước trận tứ kết lượt đi Champions League trên sân nhà gặp Bayern. Đoàn quân của Pep Guardiola hiểu rằng họ cần có một kết quả tốt trước khi làm khách trên sân đối thủ ở lượt về, vì vậy ManCity chủ động dâng cao đội hình tấn công gây sức ép lên đối phương ngay sau tiếng còi khai cuộc. Phút 5, De Bruyne chuyền bóng cho Haaland từ bên trái. Cầu thủ người Na Uy bứt tốc nhanh và dứt điểm uy lực từ bên trái vòng cấm địa, bóng đi vọt xà. 9 phút sau, Haaland khiến cổ động viên Bayern thót tim khi lao vào rất nhanh tranh bóng với thủ thành Sommer ngay trên vạch vôi. Thủ môn đội khách xử lý chậm, anh phá bóng đập chân Haaland nhưng may mắn trái bóng đã văng ra biên. Haaland thi đấu nổi bật trên hàng công của Man City, các đồng đội cũng tập trung nhiều bóng cho anh. Phút 22, Haaland thoải mái dứt điểm ở đầu vòng cấm địa. Tiếc rằng cú sút của anh hơi nhẹ, bóng đi chìm và hướng thẳng vào vị trí của Sommer nên không gây nguy hiểm.\"]\n",
    "lines = gensim.utils.simple_preprocess(test[0])#loại bỏ các phần không liên quan, ex: dấu chấm, dấu phẩy\n",
    "lines = \" \".join(lines)\n",
    "lines = ViTokenizer.tokenize(lines)\n",
    "test[0] = lines\n",
    "print(lines)"
   ]
  },
  {
   "attachments": {},
   "cell_type": "markdown",
   "metadata": {},
   "source": [
    "<p>chuyển kiểu dữ liệu tf-idf</p>"
   ]
  },
  {
   "cell_type": "code",
   "execution_count": 10,
   "metadata": {},
   "outputs": [
    {
     "name": "stdout",
     "output_type": "stream",
     "text": [
      "  (0, 29708)\t0.07615150639699281\n",
      "  (0, 29706)\t0.0544543962413243\n",
      "  (0, 29647)\t0.08356450116102593\n",
      "  (0, 29510)\t0.06817812610997999\n",
      "  (0, 29506)\t0.0765673596366847\n",
      "  (0, 29254)\t0.07865264364011168\n",
      "  (0, 29177)\t0.03966085555219432\n",
      "  (0, 28715)\t0.02041243906034603\n",
      "  (0, 28500)\t0.06412146901563318\n",
      "  (0, 28314)\t0.10226193451601755\n",
      "  (0, 28269)\t0.030117245117866197\n",
      "  (0, 27633)\t0.060782945455345246\n",
      "  (0, 27326)\t0.10476767163441152\n",
      "  (0, 26670)\t0.020423278931536757\n",
      "  (0, 26645)\t0.0959523158558891\n",
      "  (0, 26637)\t0.058819195491514174\n",
      "  (0, 26614)\t0.02489786812620885\n",
      "  (0, 26494)\t0.08984034652738486\n",
      "  (0, 26388)\t0.11534806111850102\n",
      "  (0, 26304)\t0.11534806111850102\n",
      "  (0, 26217)\t0.1041155280265055\n",
      "  (0, 26196)\t0.05938003604011965\n",
      "  (0, 26147)\t0.04854003608338226\n",
      "  (0, 26128)\t0.036121466692677164\n",
      "  (0, 25530)\t0.11534806111850102\n",
      "  :\t:\n",
      "  (0, 6570)\t0.10150190837305864\n",
      "  (0, 6387)\t0.06418981395394735\n",
      "  (0, 6345)\t0.03957840401279363\n",
      "  (0, 6284)\t0.1936749761034522\n",
      "  (0, 6023)\t0.024481345709388775\n",
      "  (0, 5958)\t0.0691543648726516\n",
      "  (0, 5810)\t0.06072682483883444\n",
      "  (0, 5728)\t0.03898903528953831\n",
      "  (0, 5718)\t0.09210151099607092\n",
      "  (0, 5602)\t0.020106330757761103\n",
      "  (0, 4907)\t0.0959523158558891\n",
      "  (0, 4801)\t0.07849504369209372\n",
      "  (0, 4543)\t0.0699007330594058\n",
      "  (0, 4257)\t0.09109596011522045\n",
      "  (0, 4195)\t0.05866935019951559\n",
      "  (0, 4082)\t0.08356450116102593\n",
      "  (0, 3933)\t0.03897876169257707\n",
      "  (0, 3659)\t0.08377624706138781\n",
      "  (0, 3343)\t0.03667783190178894\n",
      "  (0, 3157)\t0.14065274896354793\n",
      "  (0, 2393)\t0.40895724566074687\n",
      "  (0, 2289)\t0.08553513262195055\n",
      "  (0, 1492)\t0.08031325794627492\n",
      "  (0, 1211)\t0.25206173354962336\n",
      "  (0, 557)\t0.10986689468273828\n"
     ]
    }
   ],
   "source": [
    "\n",
    "example_count_type = count_vect.transform(test)\n",
    "\n",
    "example = tfidf_vect.transform(test)\n",
    "print(example)\n",
    "example_truncated = svd.transform(example)"
   ]
  },
  {
   "cell_type": "code",
   "execution_count": 11,
   "metadata": {},
   "outputs": [
    {
     "name": "stdout",
     "output_type": "stream",
     "text": [
      "1\n"
     ]
    }
   ],
   "source": [
    "print(len(example_truncated))"
   ]
  },
  {
   "attachments": {},
   "cell_type": "markdown",
   "metadata": {},
   "source": [
    "dự đoán"
   ]
  },
  {
   "cell_type": "code",
   "execution_count": 12,
   "metadata": {},
   "outputs": [
    {
     "name": "stdout",
     "output_type": "stream",
     "text": [
      "kết quả của naive-bayes model: ['The thao']\n",
      "kết quả của SVM model: ['The thao']\n",
      "kết quả của KNN model: ['The thao']\n"
     ]
    }
   ],
   "source": [
    "print(\"kết quả của naive-bayes model: {}\".format(naivBayesType.predict(example_count_type)))\n",
    "print(\"kết quả của SVM model: {}\".format(svmModel.predict(example_truncated)))\n",
    "print(\"kết quả của KNN model: {}\".format(NB_model.predict(example_truncated)))"
   ]
  },
  {
   "attachments": {},
   "cell_type": "markdown",
   "metadata": {},
   "source": [
    "<h2>keyword extraction</h2>"
   ]
  },
  {
   "cell_type": "code",
   "execution_count": 13,
   "metadata": {},
   "outputs": [
    {
     "name": "stdout",
     "output_type": "stream",
     "text": [
      "bóng 0.40895724566074687\n",
      "bayern 0.25206173354962336\n",
      "trái 0.20103160734484218\n",
      "cấm_địa 0.1936749761034522\n",
      "dứt_điểm 0.1706720230636951\n"
     ]
    }
   ],
   "source": [
    "feature_names = tfidf_vect.get_feature_names_out()\n",
    "feature_scores = example.toarray()[0]\n",
    "# Sort the features by their scores\n",
    "sorted_indices = feature_scores.argsort()[::-1]\n",
    "# Print the top 5 features and their scores\n",
    "for i in range(5):\n",
    "    print(feature_names[sorted_indices[i]], feature_scores[sorted_indices[i]])"
   ]
  },
  {
   "attachments": {},
   "cell_type": "markdown",
   "metadata": {},
   "source": [
    "<h2> text mining</h2>\n",
    "<strong> cần tối ưu - cần tiền xử lí văn bản </strong>\n",
    "<p> hiện chưa thể làm việc với văn bản lớn </p>"
   ]
  },
  {
   "cell_type": "code",
   "execution_count": 14,
   "metadata": {},
   "outputs": [],
   "source": [
    "# from mlxtend.preprocessing import TransactionEncoder\n",
    "# from mlxtend.frequent_patterns import apriori, association_rules\n",
    "# import pandas as pd\n",
    "# # Define the documents\n",
    "# documents = X_data\n",
    "\n",
    "# # Tokenize the documents\n",
    "# tokenized_documents = [document.lower().split() for document in documents]\n",
    "\n",
    "# # Encode the tokenized documents\n",
    "# te = TransactionEncoder()\n",
    "# te_ary = te.fit(tokenized_documents).transform(tokenized_documents)\n",
    "# df = pd.DataFrame(te_ary, columns=te.columns_)\n",
    "\n",
    "# # Find frequent itemsets using Apriori algorithm\n",
    "# frequent_itemsets = apriori(df, min_support=0.4, use_colnames=True)\n",
    "\n",
    "# # Generate association rules\n",
    "# rules = association_rules(frequent_itemsets, metric=\"lift\", min_threshold=1.2)\n",
    "\n",
    "# # Print the association rules\n",
    "# #print(rules)"
   ]
  },
  {
   "attachments": {},
   "cell_type": "markdown",
   "metadata": {},
   "source": [
    "<h2>text summarization</h2>"
   ]
  },
  {
   "attachments": {},
   "cell_type": "markdown",
   "metadata": {},
   "source": [
    "<p>example:</p>"
   ]
  },
  {
   "cell_type": "code",
   "execution_count": null,
   "metadata": {},
   "outputs": [],
   "source": [
    "import nltk\n",
    "nltk.download('punkt')"
   ]
  },
  {
   "cell_type": "code",
   "execution_count": 38,
   "metadata": {},
   "outputs": [
    {
     "name": "stderr",
     "output_type": "stream",
     "text": [
      "[nltk_data] Downloading package punkt to\n",
      "[nltk_data]     C:\\Users\\HP\\AppData\\Roaming\\nltk_data...\n",
      "[nltk_data]   Package punkt is already up-to-date!\n"
     ]
    }
   ],
   "source": [
    "text = [\"Man City đang có phong độ tốt trước trận tứ kết lượt đi Champions League trên sân nhà gặp Bayern. Đoàn quân của Pep Guardiola hiểu rằng họ cần có một kết quả tốt trước khi làm khách trên sân đối thủ ở lượt về, vì vậy Man City chủ động dâng cao đội hình tấn công gây sức ép lên đối phương ngay sau tiếng còi khai cuộc.Phút 5, De Bruyne chuyền bóng cho Haaland từ bên trái. Cầu thủ người Na Uy bứt tốc nhanh và dứt điểm uy lực từ bên trái vòng cấm địa, bóng đi vọt xà. 9 phút sau, Haaland khiến cổ động viên Bayern thót tim khi lao vào rất nhanh tranh bóng với thủ thành Sommer ngay trên vạch vôi. Thủ môn đội khách xử lý chậm, anh phá bóng đập chân Haaland nhưng may mắn trái bóng đã văng ra biên. Haaland thi đấu nổi bật trên hàng công của Man City, các đồng đội cũng tập trung nhiều bóng cho anh. Phút 22, Haaland thoải mái dứt điểm ở đầu vòng cấm địa. Tiếc rằng cú sút của anh hơi nhẹ, bóng đi chìm và hướng thẳng vào vị trí của Sommer nên không gây nguy hiểm.Bất ngờ xảy ra ở phút 27. Rodri nhận bóng ở trung lộ sau đường chuyền từ bên phải vào, anh ngoặt bóng loại bỏ cầu thủ của đội khách rồi thực hiện cú cứa lòng chân trái từ cự ly chừng 21m, bóng đi xoáy vào góc cao bên phải cầu môn khiến Sommer không thể cản phá.  Sau bàn thắng, Man City vẫn chơi nhỉnh hơn Bayern song họ không có thêm bàn thắng trong hiệp một. Đoàn quân của Thomas Tuchel tấn công không sắc nét trong hiệp đấu đầu tiên, họ chỉ có 4 pha dứt điểm và đều không trúng cầu môn đội chủ nhà. Bước vào hiệp hai, Bayern Munich đẩy cao đội hình tấn công, gia tăng kiểm soát bóng để tìm kiếm bàn thắng gỡ hòa. Phút 46, Sane tung cú sút như búa bổ từ bên trái trung lộ, bóng đi vào góc trái, Ederson đã chủ động khép góc nên cản phá thành công. Khi hàng công của đội khách còn chưa tìm được vào khung thành Man City, hàng thủ đã mắc sai lầm. Phút 70, Grealish cướp bóng trong chân của Upamecano rồi đánh gót cho Haaland băng xuống bên trái. Cầu thủ người Na Uy tạt bóng chính xác để Bernardo Silva băng vào đánh đầu tung lưới Bayern nâng tỷ số lên 2-0.Có hai bàn thắng trong tay, Man City chơi rất thoải mái. Phút 76, Alvarez tạt bóng mạnh từ bên phải vào trong vòng cấm địa, Stones vẫn đứng trong vòng cấm địa đối phương sau khi tham gia pha tấn công trước đó, anh đã đánh đầu chuyền bóng sang phải để Haaland ập vào đệm bóng từ cự ly gần nâng tỷ số lên 3-0. Man City vẫn khát khao ghi bàn trong những phút còn lại, tiếc rằng họ không thành công. Tuy nhiên, với khoảng cách ba bàn sau lượt đi, Man City sẽ thoải mái bước vào trận lượt về vào tuần sau.\"]\n",
    "lines = ViTokenizer.tokenize(text[0])\n",
    "text[0] = lines"
   ]
  },
  {
   "attachments": {},
   "cell_type": "markdown",
   "metadata": {},
   "source": [
    "<h3>1, split sentence</h3>"
   ]
  },
  {
   "cell_type": "code",
   "execution_count": 39,
   "metadata": {},
   "outputs": [
    {
     "name": "stdout",
     "output_type": "stream",
     "text": [
      "Man City đang có phong_độ tốt trước trận tứ_kết lượt đi Champions_League trên sân_nhà gặp Bayern .\n",
      "Đoàn_quân của Pep_Guardiola hiểu rằng họ cần có một kết_quả tốt trước khi làm_khách trên sân đối_thủ ở lượt về , vì_vậy Man City chủ_động dâng cao đội_hình tấn_công gây sức_ép lên đối_phương ngay sau tiếng còi khai_cuộc .\n",
      "Phút 5 , De Bruyne chuyền bóng cho Haaland từ bên trái .\n",
      "Cầu_thủ người Na Uy bứt tốc nhanh và dứt_điểm uy_lực từ bên trái vòng cấm_địa , bóng đi vọt xà .\n",
      "9 phút sau , Haaland khiến cổ_động_viên Bayern thót_tim khi lao vào rất nhanh tranh bóng với thủ_thành Sommer ngay trên vạch vôi .\n",
      "Thủ_môn đội khách xử_lý chậm , anh phá bóng đập chân Haaland nhưng may_mắn trái bóng đã văng ra biên .\n",
      "Haaland thi_đấu nổi_bật trên hàng công của Man City , các đồng_đội cũng tập_trung nhiều bóng cho anh .\n",
      "Phút 22 , Haaland thoải_mái dứt_điểm ở đầu vòng cấm_địa .\n",
      "Tiếc rằng cú sút của anh hơi nhẹ , bóng đi chìm và hướng thẳng vào vị_trí của Sommer nên không gây nguy_hiểm .\n",
      "Bất_ngờ xảy ra ở phút 27 .\n",
      "Rodri nhận bóng ở trung_lộ sau đường chuyền từ bên phải vào , anh ngoặt bóng loại_bỏ cầu_thủ của đội khách rồi thực_hiện cú cứa lòng chân trái từ cự_ly chừng 21m , bóng đi xoáy vào góc cao bên phải cầu_môn khiến Sommer không_thể cản_phá .\n",
      "Sau bàn thắng , Man City vẫn chơi nhỉnh hơn Bayern song họ không có thêm bàn thắng trong hiệp một .\n",
      "Đoàn_quân của Thomas Tuchel tấn_công không sắc nét trong hiệp_đấu đầu_tiên , họ chỉ có 4 pha dứt_điểm và đều không trúng cầu_môn đội chủ nhà .\n",
      "Bước vào hiệp hai , Bayern Munich đẩy cao đội_hình tấn_công , gia_tăng kiểm_soát bóng để tìm_kiếm bàn thắng gỡ hòa .\n",
      "Phút 46 , Sane tung cú sút như búa bổ từ bên trái trung_lộ , bóng đi vào góc trái , Ederson đã chủ_động khép góc nên cản_phá thành_công .\n",
      "Khi hàng công của đội khách còn chưa tìm được vào khung_thành Man City , hàng thủ đã mắc sai_lầm .\n",
      "Phút 70 , Grealish cướp bóng trong chân của Upamecano rồi đánh gót cho Haaland băng xuống bên trái .\n",
      "Cầu_thủ người Na Uy tạt bóng chính_xác để Bernardo_Silva băng vào đánh_đầu tung_lưới Bayern nâng tỷ_số lên 2 - 0 .\n",
      "Có hai bàn thắng trong tay , Man City chơi rất thoải_mái .\n",
      "Phút 76 , Alvarez tạt bóng mạnh từ bên phải vào trong vòng cấm_địa , Stones vẫn đứng trong vòng cấm_địa đối_phương sau khi tham_gia pha tấn_công trước đó , anh đã đánh_đầu chuyền bóng sang phải để Haaland ập vào đệm_bóng từ cự_ly gần nâng tỷ_số lên 3 - 0 .\n",
      "Man City vẫn khát_khao ghi_bàn trong những phút còn lại , tiếc rằng họ không thành_công .\n",
      "Tuy_nhiên , với khoảng_cách ba bàn sau lượt_đi , Man City sẽ thoải_mái bước vào trận lượt về vào tuần sau .\n"
     ]
    }
   ],
   "source": [
    "sentences = nltk.sent_tokenize(text[0])\n",
    "\n",
    "# In ra các câu được tách\n",
    "for sentence in sentences:\n",
    "    print(sentence)"
   ]
  },
  {
   "attachments": {},
   "cell_type": "markdown",
   "metadata": {},
   "source": [
    "<h3>2, change sentence to vector of word</h3>"
   ]
  },
  {
   "cell_type": "code",
   "execution_count": 40,
   "metadata": {},
   "outputs": [
    {
     "name": "stdout",
     "output_type": "stream",
     "text": [
      "<class 'scipy.sparse._csr.csr_matrix'>\n"
     ]
    }
   ],
   "source": [
    "sentences_count_type = count_vect.transform(sentences)\n",
    "print(type(sentences_count_type))"
   ]
  },
  {
   "attachments": {},
   "cell_type": "markdown",
   "metadata": {},
   "source": [
    "<h3>3, Build Kmeans model </h3>"
   ]
  },
  {
   "cell_type": "code",
   "execution_count": 41,
   "metadata": {},
   "outputs": [
    {
     "name": "stderr",
     "output_type": "stream",
     "text": [
      "c:\\Users\\HP\\AppData\\Local\\Programs\\Python\\Python310\\lib\\site-packages\\sklearn\\cluster\\_kmeans.py:870: FutureWarning: The default value of `n_init` will change from 10 to 'auto' in 1.4. Set the value of `n_init` explicitly to suppress the warning\n",
      "  warnings.warn(\n"
     ]
    }
   ],
   "source": [
    "from sklearn.cluster import KMeans\n",
    "\n",
    "n_clusters = 5\n",
    "kmeans = KMeans(n_clusters=n_clusters)\n",
    "kmeans = kmeans.fit(sentences_count_type)"
   ]
  },
  {
   "cell_type": "code",
   "execution_count": 42,
   "metadata": {},
   "outputs": [],
   "source": [
    "pickle.dump(kmeans, open(\"kmeans_object.pkl\", \"wb\"))"
   ]
  },
  {
   "attachments": {},
   "cell_type": "markdown",
   "metadata": {},
   "source": [
    "<h3>4, summary</h3>"
   ]
  },
  {
   "attachments": {},
   "cell_type": "markdown",
   "metadata": {},
   "source": [
    "<p>điểm lấy ra để đại diện cho các câu là điểm gần centroid nhất</p>"
   ]
  },
  {
   "cell_type": "code",
   "execution_count": 43,
   "metadata": {},
   "outputs": [],
   "source": [
    "from sklearn.metrics import pairwise_distances_argmin_min\n",
    "import numpy as np \n",
    "\n",
    "avg = []\n",
    "for j in range(n_clusters):\n",
    "    idx = np.where(kmeans.labels_ == j)[0]\n",
    "    #dùng để sắp xếp thứ tự các câu, = trung bình thứ tự xuất hiện\n",
    "    avg.append(np.mean(idx))\n",
    "#chọn câu đại diện là câu gần trung tâm nhất\n",
    "closest, _ = pairwise_distances_argmin_min(kmeans.cluster_centers_, sentences_count_type)\n",
    "ordering = sorted(range(n_clusters), key=lambda k: avg[k])\n",
    "summary = ' '.join([sentences[closest[idx]] for idx in ordering])"
   ]
  },
  {
   "cell_type": "code",
   "execution_count": 44,
   "metadata": {},
   "outputs": [
    {
     "name": "stdout",
     "output_type": "stream",
     "text": [
      "Bất_ngờ xảy ra ở phút 27 . Rodri nhận bóng ở trung_lộ sau đường chuyền từ bên phải vào , anh ngoặt bóng loại_bỏ cầu_thủ của đội khách rồi thực_hiện cú cứa lòng chân trái từ cự_ly chừng 21m , bóng đi xoáy vào góc cao bên phải cầu_môn khiến Sommer không_thể cản_phá . Haaland thi_đấu nổi_bật trên hàng công của Man City , các đồng_đội cũng tập_trung nhiều bóng cho anh . Đoàn_quân của Thomas Tuchel tấn_công không sắc nét trong hiệp_đấu đầu_tiên , họ chỉ có 4 pha dứt_điểm và đều không trúng cầu_môn đội chủ nhà . Phút 76 , Alvarez tạt bóng mạnh từ bên phải vào trong vòng cấm_địa , Stones vẫn đứng trong vòng cấm_địa đối_phương sau khi tham_gia pha tấn_công trước đó , anh đã đánh_đầu chuyền bóng sang phải để Haaland ập vào đệm_bóng từ cự_ly gần nâng tỷ_số lên 3 - 0 .\n"
     ]
    }
   ],
   "source": [
    "print(summary)"
   ]
  }
 ],
 "metadata": {
  "kernelspec": {
   "display_name": "Python 3",
   "language": "python",
   "name": "python3"
  },
  "language_info": {
   "codemirror_mode": {
    "name": "ipython",
    "version": 3
   },
   "file_extension": ".py",
   "mimetype": "text/x-python",
   "name": "python",
   "nbconvert_exporter": "python",
   "pygments_lexer": "ipython3",
   "version": "3.10.6"
  },
  "orig_nbformat": 4
 },
 "nbformat": 4,
 "nbformat_minor": 2
}
