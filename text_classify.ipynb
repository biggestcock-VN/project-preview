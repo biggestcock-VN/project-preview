{
 "cells": [
  {
   "cell_type": "code",
   "execution_count": 1,
   "metadata": {},
   "outputs": [],
   "source": [
    "from pyvi import ViTokenizer, ViPosTagger # thư viện NLP tiếng Việt\n",
    "from tqdm import tqdm\n",
    "import numpy as np\n",
    "import gensim # thư viện NLP\n",
    "import pickle\n",
    "from sklearn import naive_bayes, metrics, preprocessing\n",
    "from sklearn.model_selection import train_test_split\n",
    "from sklearn.feature_extraction.text import TfidfVectorizer, CountVectorizer"
   ]
  },
  {
   "attachments": {},
   "cell_type": "markdown",
   "metadata": {},
   "source": [
    "<h2>lấy dữ liệu đã được xử lý</h2>\n",
    "<p>dữ liệu phục vụ cho mô hình là một csr matrix, hay nói cách khác là một tập hợp gồm n phần tử, mỗi phần tử là một vector p chiều</p>\n",
    "<p>mỗi chiều của vector là một từ trong tiếng việt, bao gồm cả từ đơn và từ ghép</p>\n",
    "<p>file .pkl dùng để lưu lại các object(list, tuple ...) trong python</p>\n",
    "<p><strong>count_vect_data lưu lại một ma trận có 40000 cột và số hàng tương ứng với số văn bản, mỗi phần tử là số lần xuất hiện của từ trong văn bản</strong><p>\n",
    "<p><strong>tfidf như cont_vect, nhưng giá trị phần tử là tần suất thay vì số lần xuất hiện</strong></p>\n",
    "<p><strong>tfidf_svd là tfidf nhưng đã giảm số chiều(số cột)</strong></p>"
   ]
  },
  {
   "cell_type": "code",
   "execution_count": 2,
   "metadata": {},
   "outputs": [],
   "source": [
    "X_data_count = pickle.load(open(\"count_vect_data.pkl\", \"rb\"))\n",
    "X_test_count = pickle.load(open(\"count_vect_test.pkl\", \"rb\"))\n",
    "X_data_tfidf_svd = pickle.load(open(\"X_data_tfidf_svd.pkl\", \"rb\"))\n",
    "X_test_tfidf_svd = pickle.load(open(\"X_test_tfidf_svd.pkl\", \"rb\"))\n",
    "y_data = pickle.load(open(\"raw_data/y_data.pkl\", \"rb\"))\n",
    "y_test = pickle.load(open(\"raw_data/y_test.pkl\", \"rb\"))\n",
    "X_data = pickle.load(open(\"raw_data/X_data.pkl\", \"rb\"))\n",
    "X_test = pickle.load(open(\"raw_data/X_test.pkl\", \"rb\"))\n",
    "X_data_tfidf = pickle.load(open(\"X_data_tfidf.pkl\", \"rb\"))"
   ]
  },
  {
   "attachments": {},
   "cell_type": "markdown",
   "metadata": {},
   "source": [
    "<h2>đánh nhãn cho các lớp, do model hoạt động dựa trên dữ liệu số</h2>\n"
   ]
  },
  {
   "cell_type": "code",
   "execution_count": 3,
   "metadata": {},
   "outputs": [
    {
     "data": {
      "text/plain": [
       "array(['Chinh tri Xa hoi', 'Doi song', 'Khoa hoc', 'Kinh doanh',\n",
       "       'Phap luat', 'Suc khoe', 'The gioi', 'The thao', 'Van hoa',\n",
       "       'Vi tinh'], dtype='<U16')"
      ]
     },
     "execution_count": 3,
     "metadata": {},
     "output_type": "execute_result"
    }
   ],
   "source": [
    "encoder = preprocessing.LabelEncoder()\n",
    "y_data_n = encoder.fit_transform(y_data)\n",
    "y_test_n = encoder.fit_transform(y_test)\n",
    "\n",
    "encoder.classes_ # kết quả: array(['Chinh tri Xa hoi', 'Doi song', 'Khoa hoc', 'Kinh doanh',\n",
    "                 #                 'Phap luat', 'Suc khoe', 'The gioi', 'The thao', 'Van hoa',\n",
    "                 #                 'Vi tinh'], dtype='<U16')\n",
    "\n",
    "#cell nay bo cx dc, cac thuat toan van chay binh thuong"
   ]
  },
  {
   "attachments": {},
   "cell_type": "markdown",
   "metadata": {},
   "source": [
    "<h2>build hàm huấn luyện chung để cho các model để thuận tiện thay đổi model</h2>"
   ]
  },
  {
   "cell_type": "code",
   "execution_count": 4,
   "metadata": {},
   "outputs": [],
   "source": [
    "def train_model(classifier, X_data, y_data, X_test, y_test, is_neuralnet=False, n_epochs=3):       \n",
    "    X_train, X_val, y_train, y_val = train_test_split(X_data, y_data, test_size=0.1, random_state=42)\n",
    "    \n",
    "    if is_neuralnet:\n",
    "        classifier.fit(X_train, y_train, validation_data=(X_val, y_val), epochs=n_epochs, batch_size=512)\n",
    "        \n",
    "        val_predictions = classifier.predict(X_val)\n",
    "        test_predictions = classifier.predict(X_test)\n",
    "        val_predictions = val_predictions.argmax(axis=-1)\n",
    "        test_predictions = test_predictions.argmax(axis=-1)\n",
    "    else:\n",
    "        classifier.fit(X_train, y_train)\n",
    "\n",
    "        train_predictions = classifier.predict(X_train)\n",
    "        val_predictions = classifier.predict(X_val)\n",
    "        test_predictions = classifier.predict(X_test)\n",
    "\n",
    " \n",
    "    print(\"Validation accuracy: \", metrics.accuracy_score(val_predictions, y_val))\n",
    "    print(\"Test accuracy: \", metrics.accuracy_score(test_predictions, y_test))"
   ]
  },
  {
   "attachments": {},
   "cell_type": "markdown",
   "metadata": {},
   "source": [
    "<h1>Tiến hành build các model</h1>"
   ]
  },
  {
   "attachments": {},
   "cell_type": "markdown",
   "metadata": {},
   "source": [
    "<h2>1, Naive-bayes</h2>"
   ]
  },
  {
   "cell_type": "code",
   "execution_count": 5,
   "metadata": {},
   "outputs": [
    {
     "name": "stdout",
     "output_type": "stream",
     "text": [
      "Validation accuracy:  0.9164490861618799\n",
      "Test accuracy:  0.7852889667250438\n"
     ]
    }
   ],
   "source": [
    "naivBayesType = naive_bayes.MultinomialNB()\n",
    "train_model(naivBayesType, X_data_count, y_data, X_test_count, y_test, is_neuralnet=False)"
   ]
  },
  {
   "attachments": {},
   "cell_type": "markdown",
   "metadata": {},
   "source": [
    "<h2>2, SVM</h2>\n",
    "<p>svm và knn test dữ liệu có số chiều nhỏ<p>"
   ]
  },
  {
   "cell_type": "code",
   "execution_count": 6,
   "metadata": {},
   "outputs": [
    {
     "name": "stdout",
     "output_type": "stream",
     "text": [
      "Validation accuracy:  0.9295039164490861\n",
      "Test accuracy:  0.7957968476357268\n"
     ]
    }
   ],
   "source": [
    "from sklearn import svm\n",
    "svmModel = svm.SVC()\n",
    "train_model(svmModel, X_data_tfidf_svd, y_data, X_test_tfidf_svd, y_test, is_neuralnet=False)"
   ]
  },
  {
   "attachments": {},
   "cell_type": "markdown",
   "metadata": {},
   "source": [
    "<h2>3, KNN</h2>\n"
   ]
  },
  {
   "cell_type": "code",
   "execution_count": 7,
   "metadata": {},
   "outputs": [
    {
     "name": "stdout",
     "output_type": "stream",
     "text": [
      "Validation accuracy:  0.8459530026109661\n",
      "Test accuracy:  0.6612959719789843\n"
     ]
    }
   ],
   "source": [
    "from sklearn import neighbors\n",
    "NB_model = neighbors.KNeighborsClassifier()\n",
    "train_model(NB_model, X_data_tfidf_svd, y_data, X_test_tfidf_svd, y_test, is_neuralnet=False)"
   ]
  },
  {
   "attachments": {},
   "cell_type": "markdown",
   "metadata": {},
   "source": [
    "<h2> sử dụng model </h2>"
   ]
  },
  {
   "attachments": {},
   "cell_type": "markdown",
   "metadata": {},
   "source": [
    "<p>tạo mẫu</p>"
   ]
  },
  {
   "attachments": {},
   "cell_type": "markdown",
   "metadata": {},
   "source": [
    "các tư thế xử lý dữ liệu"
   ]
  },
  {
   "cell_type": "code",
   "execution_count": 8,
   "metadata": {},
   "outputs": [
    {
     "data": {
      "text/html": [
       "<style>#sk-container-id-1 {color: black;background-color: white;}#sk-container-id-1 pre{padding: 0;}#sk-container-id-1 div.sk-toggleable {background-color: white;}#sk-container-id-1 label.sk-toggleable__label {cursor: pointer;display: block;width: 100%;margin-bottom: 0;padding: 0.3em;box-sizing: border-box;text-align: center;}#sk-container-id-1 label.sk-toggleable__label-arrow:before {content: \"▸\";float: left;margin-right: 0.25em;color: #696969;}#sk-container-id-1 label.sk-toggleable__label-arrow:hover:before {color: black;}#sk-container-id-1 div.sk-estimator:hover label.sk-toggleable__label-arrow:before {color: black;}#sk-container-id-1 div.sk-toggleable__content {max-height: 0;max-width: 0;overflow: hidden;text-align: left;background-color: #f0f8ff;}#sk-container-id-1 div.sk-toggleable__content pre {margin: 0.2em;color: black;border-radius: 0.25em;background-color: #f0f8ff;}#sk-container-id-1 input.sk-toggleable__control:checked~div.sk-toggleable__content {max-height: 200px;max-width: 100%;overflow: auto;}#sk-container-id-1 input.sk-toggleable__control:checked~label.sk-toggleable__label-arrow:before {content: \"▾\";}#sk-container-id-1 div.sk-estimator input.sk-toggleable__control:checked~label.sk-toggleable__label {background-color: #d4ebff;}#sk-container-id-1 div.sk-label input.sk-toggleable__control:checked~label.sk-toggleable__label {background-color: #d4ebff;}#sk-container-id-1 input.sk-hidden--visually {border: 0;clip: rect(1px 1px 1px 1px);clip: rect(1px, 1px, 1px, 1px);height: 1px;margin: -1px;overflow: hidden;padding: 0;position: absolute;width: 1px;}#sk-container-id-1 div.sk-estimator {font-family: monospace;background-color: #f0f8ff;border: 1px dotted black;border-radius: 0.25em;box-sizing: border-box;margin-bottom: 0.5em;}#sk-container-id-1 div.sk-estimator:hover {background-color: #d4ebff;}#sk-container-id-1 div.sk-parallel-item::after {content: \"\";width: 100%;border-bottom: 1px solid gray;flex-grow: 1;}#sk-container-id-1 div.sk-label:hover label.sk-toggleable__label {background-color: #d4ebff;}#sk-container-id-1 div.sk-serial::before {content: \"\";position: absolute;border-left: 1px solid gray;box-sizing: border-box;top: 0;bottom: 0;left: 50%;z-index: 0;}#sk-container-id-1 div.sk-serial {display: flex;flex-direction: column;align-items: center;background-color: white;padding-right: 0.2em;padding-left: 0.2em;position: relative;}#sk-container-id-1 div.sk-item {position: relative;z-index: 1;}#sk-container-id-1 div.sk-parallel {display: flex;align-items: stretch;justify-content: center;background-color: white;position: relative;}#sk-container-id-1 div.sk-item::before, #sk-container-id-1 div.sk-parallel-item::before {content: \"\";position: absolute;border-left: 1px solid gray;box-sizing: border-box;top: 0;bottom: 0;left: 50%;z-index: -1;}#sk-container-id-1 div.sk-parallel-item {display: flex;flex-direction: column;z-index: 1;position: relative;background-color: white;}#sk-container-id-1 div.sk-parallel-item:first-child::after {align-self: flex-end;width: 50%;}#sk-container-id-1 div.sk-parallel-item:last-child::after {align-self: flex-start;width: 50%;}#sk-container-id-1 div.sk-parallel-item:only-child::after {width: 0;}#sk-container-id-1 div.sk-dashed-wrapped {border: 1px dashed gray;margin: 0 0.4em 0.5em 0.4em;box-sizing: border-box;padding-bottom: 0.4em;background-color: white;}#sk-container-id-1 div.sk-label label {font-family: monospace;font-weight: bold;display: inline-block;line-height: 1.2em;}#sk-container-id-1 div.sk-label-container {text-align: center;}#sk-container-id-1 div.sk-container {/* jupyter's `normalize.less` sets `[hidden] { display: none; }` but bootstrap.min.css set `[hidden] { display: none !important; }` so we also need the `!important` here to be able to override the default hidden behavior on the sphinx rendered scikit-learn.org. See: https://github.com/scikit-learn/scikit-learn/issues/21755 */display: inline-block !important;position: relative;}#sk-container-id-1 div.sk-text-repr-fallback {display: none;}</style><div id=\"sk-container-id-1\" class=\"sk-top-container\"><div class=\"sk-text-repr-fallback\"><pre>CountVectorizer(token_pattern=&#x27;\\\\w{1,}&#x27;)</pre><b>In a Jupyter environment, please rerun this cell to show the HTML representation or trust the notebook. <br />On GitHub, the HTML representation is unable to render, please try loading this page with nbviewer.org.</b></div><div class=\"sk-container\" hidden><div class=\"sk-item\"><div class=\"sk-estimator sk-toggleable\"><input class=\"sk-toggleable__control sk-hidden--visually\" id=\"sk-estimator-id-1\" type=\"checkbox\" checked><label for=\"sk-estimator-id-1\" class=\"sk-toggleable__label sk-toggleable__label-arrow\">CountVectorizer</label><div class=\"sk-toggleable__content\"><pre>CountVectorizer(token_pattern=&#x27;\\\\w{1,}&#x27;)</pre></div></div></div></div></div>"
      ],
      "text/plain": [
       "CountVectorizer(token_pattern='\\\\w{1,}')"
      ]
     },
     "execution_count": 8,
     "metadata": {},
     "output_type": "execute_result"
    }
   ],
   "source": [
    "from sklearn.decomposition import TruncatedSVD\n",
    "#chuyển data về kiểu tfidf\n",
    "tfidf_vect = TfidfVectorizer(analyzer='word', max_features=30000)\n",
    "tfidf_vect.fit(X_data) # learn vocabulary and idf from training set\n",
    "#chuyển data về kiểu giảm số chiều\n",
    "svd = TruncatedSVD(n_components=300, random_state=42)\n",
    "svd.fit(X_data_tfidf)\n",
    "#chuyển data về kiểu đếm số lần xuất hiện \n",
    "count_vect = CountVectorizer(analyzer='word', token_pattern=r'\\w{1,}')\n",
    "count_vect.fit(X_data)\n",
    "\n"
   ]
  },
  {
   "attachments": {},
   "cell_type": "markdown",
   "metadata": {},
   "source": [
    "<p>preprocessing theo kiểu tiếng việt</p>"
   ]
  },
  {
   "cell_type": "code",
   "execution_count": 28,
   "metadata": {},
   "outputs": [
    {
     "name": "stdout",
     "output_type": "stream",
     "text": [
      "số ca covid ghi_nhận mới trên cả nước đang có dấu_hiệu gia_tăng trở_lại theo thống_kê của bộ tế trong ngày cả nước ghi_nhận ca covid trong đó hà_nội vẫn là địa_phương đứng đầu cả nước về số ca covid mới\n"
     ]
    }
   ],
   "source": [
    "test = [\"Số ca Covid-19 ghi nhận mới trên cả nước đang có dấu hiệu gia tăng trở lại. Theo thống kê của Bộ Y tế, trong ngày 10/4, cả nước ghi nhận 113 ca Covid-19. Trong đó, Hà Nội vẫn là địa phương đứng đầu cả nước về số ca Covid-19 mới.\"]\n",
    "lines = gensim.utils.simple_preprocess(test[0])#loại bỏ các phần không liên quan, ex: dấu chấm, dấu phẩy\n",
    "lines = \" \".join(lines)\n",
    "lines = ViTokenizer.tokenize(lines)\n",
    "test[0] = lines\n",
    "print(lines)"
   ]
  },
  {
   "attachments": {},
   "cell_type": "markdown",
   "metadata": {},
   "source": [
    "<p>chuyển kiểu dữ liệu tf-idf</p>"
   ]
  },
  {
   "cell_type": "code",
   "execution_count": 29,
   "metadata": {},
   "outputs": [
    {
     "name": "stdout",
     "output_type": "stream",
     "text": [
      "  (0, 29798)\t0.13457862072133056\n",
      "  (0, 29422)\t0.1665259059061734\n",
      "  (0, 29177)\t0.10332856811494102\n",
      "  (0, 28787)\t0.06353185614282238\n",
      "  (0, 28269)\t0.07846456588664376\n",
      "  (0, 26614)\t0.0648665044355921\n",
      "  (0, 26540)\t0.08859006997879379\n",
      "  (0, 24919)\t0.18186491493254475\n",
      "  (0, 23672)\t0.15324185933943354\n",
      "  (0, 23276)\t0.06497647575156824\n",
      "  (0, 23043)\t0.09980234763446762\n",
      "  (0, 22043)\t0.2087885544772913\n",
      "  (0, 21179)\t0.06914615072300737\n",
      "  (0, 20803)\t0.19819654764492767\n",
      "  (0, 16874)\t0.28765239925421626\n",
      "  (0, 15431)\t0.08109126767533044\n",
      "  (0, 14988)\t0.16213002741659555\n",
      "  (0, 13020)\t0.05037610693706412\n",
      "  (0, 9620)\t0.13432047694651755\n",
      "  (0, 8305)\t0.1879391114741128\n",
      "  (0, 8260)\t0.41939373305366817\n",
      "  (0, 7521)\t0.18627373896394073\n",
      "  (0, 6639)\t0.04844218846831734\n",
      "  (0, 6164)\t0.27591632632228\n",
      "  (0, 5728)\t0.05078913619688675\n",
      "  (0, 3175)\t0.5362890034156645\n",
      "  (0, 3073)\t0.10990171918635742\n"
     ]
    }
   ],
   "source": [
    "\n",
    "example_count_type = count_vect.transform(test)\n",
    "\n",
    "example = tfidf_vect.transform(test)\n",
    "print(example)\n",
    "example_truncated = svd.transform(example)"
   ]
  },
  {
   "cell_type": "code",
   "execution_count": 10,
   "metadata": {},
   "outputs": [
    {
     "name": "stdout",
     "output_type": "stream",
     "text": [
      "1\n"
     ]
    }
   ],
   "source": [
    "print(len(example_truncated))"
   ]
  },
  {
   "attachments": {},
   "cell_type": "markdown",
   "metadata": {},
   "source": [
    "dự đoán"
   ]
  },
  {
   "cell_type": "code",
   "execution_count": 31,
   "metadata": {},
   "outputs": [
    {
     "name": "stdout",
     "output_type": "stream",
     "text": [
      "kết quả của naive-bayes model: ['Suc khoe']\n",
      "kết quả của SVM model: ['Suc khoe']\n",
      "kết quả của KNN model: ['Khoa hoc']\n"
     ]
    }
   ],
   "source": [
    "print(\"kết quả của naive-bayes model: {}\".format(naivBayesType.predict(example_count_type)))\n",
    "print(\"kết quả của SVM model: {}\".format(svmModel.predict(example_truncated)))\n",
    "print(\"kết quả của KNN model: {}\".format(NB_model.predict(example_truncated)))"
   ]
  },
  {
   "attachments": {},
   "cell_type": "markdown",
   "metadata": {},
   "source": [
    "<h2>keyword extraction</h2>"
   ]
  },
  {
   "cell_type": "code",
   "execution_count": 30,
   "metadata": {},
   "outputs": [
    {
     "name": "stdout",
     "output_type": "stream",
     "text": [
      "ca 0.5362890034156645\n",
      "ghi_nhận 0.41939373305366817\n",
      "nước 0.28765239925421626\n",
      "cả 0.27591632632228\n",
      "thống_kê 0.2087885544772913\n"
     ]
    }
   ],
   "source": [
    "feature_names = tfidf_vect.get_feature_names_out()\n",
    "feature_scores = example.toarray()[0]\n",
    "# Sort the features by their scores\n",
    "sorted_indices = feature_scores.argsort()[::-1]\n",
    "# Print the top 5 features and their scores\n",
    "for i in range(5):\n",
    "    print(feature_names[sorted_indices[i]], feature_scores[sorted_indices[i]])"
   ]
  }
 ],
 "metadata": {
  "kernelspec": {
   "display_name": "Python 3",
   "language": "python",
   "name": "python3"
  },
  "language_info": {
   "codemirror_mode": {
    "name": "ipython",
    "version": 3
   },
   "file_extension": ".py",
   "mimetype": "text/x-python",
   "name": "python",
   "nbconvert_exporter": "python",
   "pygments_lexer": "ipython3",
   "version": "3.10.6"
  },
  "orig_nbformat": 4
 },
 "nbformat": 4,
 "nbformat_minor": 2
}
